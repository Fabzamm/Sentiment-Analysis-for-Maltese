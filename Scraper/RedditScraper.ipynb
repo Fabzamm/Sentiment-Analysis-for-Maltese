{
  "nbformat": 4,
  "nbformat_minor": 0,
  "metadata": {
    "colab": {
      "provenance": []
    },
    "kernelspec": {
      "name": "python3",
      "display_name": "Python 3"
    },
    "language_info": {
      "name": "python"
    }
  },
  "cells": [
    {
      "cell_type": "markdown",
      "source": [
        "# Reddit Comment Scraper"
      ],
      "metadata": {
        "id": "bh01se9Yoo45"
      }
    },
    {
      "cell_type": "markdown",
      "source": [
        "## Installation and Imports"
      ],
      "metadata": {
        "id": "pkblbcPat0AN"
      }
    },
    {
      "cell_type": "code",
      "execution_count": null,
      "metadata": {
        "id": "qhxW6Ibr2FEA",
        "collapsed": true
      },
      "outputs": [],
      "source": [
        "pip install praw"
      ]
    },
    {
      "cell_type": "code",
      "source": [
        "import praw\n",
        "import json\n",
        "import re"
      ],
      "metadata": {
        "id": "_0il-K015EXx",
        "collapsed": true
      },
      "execution_count": null,
      "outputs": []
    },
    {
      "cell_type": "markdown",
      "source": [
        "## API Authentication and Post List"
      ],
      "metadata": {
        "id": "vi5bGIb_uLtZ"
      }
    },
    {
      "cell_type": "code",
      "source": [
        "# Reddit API credentials\n",
        "\n",
        "\n",
        "# List of post IDs\n",
        "post_ids = [\n",
        "    \"j1ap5g\", \"14xw68c\", \"1feyfmx\", \"15g1thv\", \"yt1gwc\", \"16thg4o\",\n",
        "    \"1cgtigf\", \"bbi3cb\", \"16x13cy\", \"pj00hn\", \"utiezl\", \"pzibsc\",\n",
        "    \"1d3ersq\", \"ix5pbo\", \"1bloq77\", \"e8gvgk\", \"169eb31\", \"jssp35\"\n",
        "]"
      ],
      "metadata": {
        "id": "BEI1ETvcpKkf"
      },
      "execution_count": null,
      "outputs": []
    },
    {
      "cell_type": "markdown",
      "source": [
        "## Preprocessing"
      ],
      "metadata": {
        "id": "HVlulz0euZSQ"
      }
    },
    {
      "cell_type": "code",
      "source": [
        "maltese_comments = []\n",
        "\n",
        "def preprocess_text(text):\n",
        "    # Removing numbering (e.g., \"1. Text\")\n",
        "    text = re.sub(r'^\\d+\\.\\s*', '', text, flags=re.MULTILINE)\n",
        "\n",
        "    # Removing bullet points (•, -, *, →, etc.)\n",
        "    text = re.sub(r'^[•\\-\\*\\→]+\\s*', '', text, flags=re.MULTILINE)\n",
        "\n",
        "    # Ensure sentence separation: Add a period if a line doesn't end with punctuation\n",
        "    lines = text.split(\"\\n\")  # Split into separate lines\n",
        "    cleaned_lines = []\n",
        "\n",
        "    for line in lines:\n",
        "        line = line.strip()\n",
        "        if line and not re.search(r'[.!?]$', line):  # If missing punctuation, add `.`\n",
        "            line += '.'\n",
        "        cleaned_lines.append(line)\n",
        "\n",
        "    # Rejoin lines into a proper paragraph\n",
        "    text = \" \".join(cleaned_lines)\n",
        "\n",
        "    return text"
      ],
      "metadata": {
        "id": "QVETdt3kpFrM"
      },
      "execution_count": null,
      "outputs": []
    },
    {
      "cell_type": "markdown",
      "source": [
        "## Scraping Loop"
      ],
      "metadata": {
        "id": "K02_YfEeq6FB"
      }
    },
    {
      "cell_type": "code",
      "source": [
        "# Looping through the provided post IDs\n",
        "for post_id in post_ids:\n",
        "    post = reddit.submission(id=post_id)  # Get the post by ID\n",
        "    post.comments.replace_more(limit=0)  # Load all comments\n",
        "\n",
        "    for comment in post.comments.list():\n",
        "        try:\n",
        "            text = comment.body.strip()\n",
        "            clean_text = preprocess_text(text)\n",
        "\n",
        "            # Append the cleaned comment\n",
        "            maltese_comments.append({\"content\": clean_text})\n",
        "\n",
        "        except Exception as e:\n",
        "            print(f\"Error processing comment: {e}\")  # Debugging info\n",
        "            continue  # Ignore errors (e.g., empty comments)"
      ],
      "metadata": {
        "id": "SpT_l_fLo-Sc"
      },
      "execution_count": null,
      "outputs": []
    },
    {
      "cell_type": "markdown",
      "source": [
        "## Saving"
      ],
      "metadata": {
        "id": "LEl8Wsbzq3Zt"
      }
    },
    {
      "cell_type": "code",
      "source": [
        "# Saving as JSON\n",
        "with open(\"reddit_comments.json\", \"w\", encoding=\"utf-8\") as f:\n",
        "    json.dump(maltese_comments, f, ensure_ascii=False, indent=4)\n",
        "\n",
        "print(f\"Collected {len(maltese_comments)} Maltese comments!\")"
      ],
      "metadata": {
        "id": "mmSPolK87lH4",
        "colab": {
          "base_uri": "https://localhost:8080/"
        },
        "outputId": "5f2e7c05-fb1a-4603-8b03-9a69685c3441"
      },
      "execution_count": null,
      "outputs": [
        {
          "output_type": "stream",
          "name": "stdout",
          "text": [
            "Collected 654 Maltese comments!\n"
          ]
        }
      ]
    }
  ]
}