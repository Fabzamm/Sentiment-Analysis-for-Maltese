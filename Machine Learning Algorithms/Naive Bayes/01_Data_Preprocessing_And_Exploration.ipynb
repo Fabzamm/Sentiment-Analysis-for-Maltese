{
 "cells": [
  {
   "cell_type": "markdown",
   "id": "f6be4c8b",
   "metadata": {},
   "source": [
    "# 01: Data Preprocessing & Initial Exploration\n",
    "\n",
    "This notebook transforms raw text data from `jerbarnes_dataset.csv` and `crowdsourced_dataset.csv` into multiple processed versions suitable for sentiment analysis model training. `MalteseTokenizer` executes a series of text normalization steps: cleaning, anonymization, Maltese language filtering, emoji-to-text conversion, tokenization, token cleaning, configurable case folding, word normalization, and optional lemmatization.\n",
    "\n",
    "The word normalization and lemmatization stages involve API calls to Gabra, which are inherently time-consuming due to network dependency. Therefore, this preprocessing pipeline is applied once upfront with various configurations (e.g., full lowercasing with lemmatization). The resulting processed datasets, each including a new 'processed_text' column, are saved to distinct CSV files (e.g., `jerbarnes_dataset_lowercased_lemmatized.csv`) to avoid repeated delays during model training and experimentation.\n",
    "\n",
    "The notebook concludes with an analysis of class distributions in the original and combined datasets."
   ]
  },
  {
   "cell_type": "code",
   "execution_count": 7,
   "id": "d79c1957",
   "metadata": {},
   "outputs": [],
   "source": [
    "from pathlib import Path\n",
    "import sys\n",
    "import pandas as pd\n",
    "import matplotlib.pyplot as plt\n",
    "\n",
    "import preprocessor # preprocessor.py\n",
    "\n",
    "\n",
    "DATA_DIR = Path('./data') # All datasets are contained within this path"
   ]
  },
  {
   "cell_type": "markdown",
   "id": "00154eb4",
   "metadata": {},
   "source": [
    "## Data Preprocessing\n",
    "\n",
    "The `MalteseTokenizer` class defines the text processing pipeline. The input text undergoes initial cleaning, then anonymization, followed by a Maltese language filter that discards non-Maltese text. Subsequently, emojis are converted to text, the text is tokenized, and tokens are cleaned. Case folding (either selective or full lowercasing) is applied, each token is normalized, and finally, optional lemmatization reduces words to their base forms.\n",
    "\n",
    "The `preprocess_dataset` function then uses this tokenizer to iterate over input CSVs (containing 'label' and 'text' columns). For each row, it applies these transformations to the 'text' column and stores the resulting space-joined processed tokens in a new 'processed_text' column. The function then saves a new output CSV file containing the original 'label' and 'text' columns along with this new 'processed_text' column. If text is filtered out as non-Maltese, its 'processed_text' field will be empty/None."
   ]
  },
  {
   "cell_type": "code",
   "execution_count": 8,
   "id": "58b15f56",
   "metadata": {},
   "outputs": [],
   "source": [
    "class MalteseTokenizer:\n",
    "    def __init__(self, case_folding_type=2, lemmatize=True):\n",
    "        if case_folding_type not in {0, 1, 2}:\n",
    "            raise ValueError(\"Invalid case folding method. Choose from 0 (no change), 1 (lowercase everything except fully-uppercase words), 2 (full lowercasing)\")\n",
    "        self.case_folding_type = case_folding_type\n",
    "        self.lemmatize = lemmatize\n",
    "\n",
    "        self.cleaner = preprocessor.TextCleaner(input_dir=None, output_dir=None)\n",
    "        self.anonymizer = preprocessor.TextAnonymizer(input_dir=None, output_dir=None, names_dir='./names')\n",
    "        self.maltese_filter = preprocessor.MalteseFilter(input_dir=None, output_dir=None)\n",
    "        \n",
    "    def __call__(self, text):\n",
    "        # Apply the same initial cleaning steps used in the Facebook Scraper dataset\n",
    "        text = self.cleaner.clean_text(text)\n",
    "        text = self.anonymizer.anonymize_text(text)\n",
    "        if not self.maltese_filter.is_maltese(text):\n",
    "            return [] # Skip text that isn't in Maltese\n",
    "\n",
    "        # Apply preprocessing steps\n",
    "        text = preprocessor.emoji_to_text(text)\n",
    "        tokens = preprocessor.tokenise(text)\n",
    "        tokens = preprocessor.clean_tokens(tokens)\n",
    "        if self.case_folding_type == 1:\n",
    "            tokens = preprocessor.selective_lowercase(tokens)\n",
    "        elif self.case_folding_type == 2:\n",
    "            tokens = preprocessor.lowercase(tokens)\n",
    "        tokens = [preprocessor.normalize_word(token) for token in tokens]\n",
    "        if self.lemmatize:\n",
    "            tokens = [preprocessor.get_lemma(token) for token in tokens]\n",
    "        return tokens\n",
    "\n",
    "def preprocess_dataset(input_dataset, headers, tokenizer, output_dataset=None):\n",
    "    # If output_dataset isn't set, overwrite original dataset\n",
    "    if not output_dataset:\n",
    "        output_dataset = input_dataset\n",
    "\n",
    "    # Load the original dataset\n",
    "    if headers:\n",
    "        df = pd.read_csv(input_dataset)\n",
    "        # Dataset must have columns 'label' and 'text'\n",
    "        if list(df.columns) != ['label', 'text']:\n",
    "            print(\"Error: Dataset must have exactly two columns: 'label' and 'text' in that order\")\n",
    "            sys.exit(1)\n",
    "\n",
    "    else:\n",
    "        df = pd.read_csv(input_dataset, header=None, names=['label', 'text'], usecols=[0, 1])\n",
    "        \n",
    "    # Add a new column for processed text\n",
    "    df['processed_text'] = None\n",
    "    \n",
    "    # Track non-Maltese texts\n",
    "    non_maltese_count = 0\n",
    "    \n",
    "    # Process each text and show progress\n",
    "    for i, row in df.iterrows():        \n",
    "        text = row['text']\n",
    "        tokens = tokenizer(text)\n",
    "        \n",
    "        # Mark non-Maltese texts\n",
    "        if not tokens:\n",
    "            non_maltese_count += 1\n",
    "            df.at[i, 'processed_text'] = None  # Explicitly set to None for non-Maltese texts\n",
    "        else:\n",
    "            # Join tokens with space to create processed text\n",
    "            processed_text = ' '.join(tokens)\n",
    "            df.at[i, 'processed_text'] = processed_text\n",
    "    \n",
    "    # Save the processed dataset\n",
    "    df.to_csv(output_dataset, index=False, header=headers)\n",
    "    print(f\"Preprocessing complete. Saved to {output_dataset}.\")"
   ]
  },
  {
   "cell_type": "markdown",
   "id": "95cfacb7",
   "metadata": {},
   "source": [
    "The `tokenizer_configs` list defines four distinct text normalization strategies resulting from all combinations of two case folding options (full or selective lowercasing) and two lemmatization options (enabled or disabled). Each dictionary specifies one unique combination and includes an `output_suffix` for naming the processed files."
   ]
  },
  {
   "cell_type": "code",
   "execution_count": 9,
   "id": "6a192c14",
   "metadata": {},
   "outputs": [],
   "source": [
    "# Define tokenizer configurations\n",
    "tokenizer_configs = [\n",
    "    {\n",
    "        'case_folding_type': 2,  # full lowercasing\n",
    "        'lemmatize': True,\n",
    "        'output_suffix': 'lowercased_lemmatized'\n",
    "    },\n",
    "    {\n",
    "        'case_folding_type': 2,  # full lowercasing\n",
    "        'lemmatize': False,\n",
    "        'output_suffix': 'lowercased_no_lemmatization'\n",
    "    },\n",
    "    {\n",
    "        'case_folding_type': 1,  # selective lowercasing\n",
    "        'lemmatize': True,\n",
    "        'output_suffix': 'selective_lowercased_lemmatized'\n",
    "    },\n",
    "    {\n",
    "        'case_folding_type': 1,  # selective lowercasing\n",
    "        'lemmatize': False,\n",
    "        'output_suffix': 'selective_lowercased_no_lemmatization'\n",
    "    }\n",
    "]"
   ]
  },
  {
   "cell_type": "markdown",
   "id": "3f7c3261",
   "metadata": {},
   "source": [
    "The `process_datasets_with_configs` function now applies each defined tokenizer configuration to the raw `jerbarnes_dataset.csv` and `crowdsourced_dataset.csv`. This generates a set of processed data files, each reflecting one of the four text normalization strategies."
   ]
  },
  {
   "cell_type": "code",
   "execution_count": null,
   "id": "c13b65f8",
   "metadata": {},
   "outputs": [
    {
     "name": "stdout",
     "output_type": "stream",
     "text": [
      "Processing dev: 'lowercased_lemmatized'...\n",
      "Preprocessing complete. Saved to data\\dev_lowercased_lemmatized.csv.\n",
      "Processing dev: 'lowercased_no_lemmatization'...\n",
      "Preprocessing complete. Saved to data\\dev_lowercased_no_lemmatization.csv.\n",
      "Processing dev: 'selective_lowercased_lemmatized'...\n",
      "Preprocessing complete. Saved to data\\dev_selective_lowercased_lemmatized.csv.\n",
      "Processing dev: 'selective_lowercased_no_lemmatization'...\n",
      "Preprocessing complete. Saved to data\\dev_selective_lowercased_no_lemmatization.csv.\n"
     ]
    }
   ],
   "source": [
    "# Process dataset with different tokenizer configurations\n",
    "def process_datasets_with_configs(dataset_name, tokenizer_configs):\n",
    "    for config in tokenizer_configs:\n",
    "        tokenizer = MalteseTokenizer(\n",
    "            case_folding_type=config['case_folding_type'],\n",
    "            lemmatize=config['lemmatize']\n",
    "        )\n",
    "        \n",
    "        print(f\"Processing {dataset_name}: '{config['output_suffix']}'...\")\n",
    "        preprocess_dataset(\n",
    "            input_dataset=DATA_DIR/f'{dataset_name}.csv',\n",
    "            headers=False,\n",
    "            tokenizer=tokenizer,\n",
    "            output_dataset=DATA_DIR/f'{dataset_name}_{config[\"output_suffix\"]}.csv'\n",
    "        )\n",
    "\n",
    "process_datasets_with_configs('jerbarnes_dataset', tokenizer_configs)\n",
    "process_datasets_with_configs('crowdsourced_dataset', tokenizer_configs)"
   ]
  },
  {
   "cell_type": "markdown",
   "id": "67fe9bab",
   "metadata": {},
   "source": [
    "## Dataset Class Distribution Analysis\n",
    "\n",
    "To understand the sentiment label balance within the datasets, the `plot_class_distribution` function is defined. This calculates and displays class counts, their corresponding percentages, and a bar chart for the provided dataset."
   ]
  },
  {
   "cell_type": "code",
   "execution_count": 13,
   "id": "065431f7",
   "metadata": {},
   "outputs": [],
   "source": [
    "def plot_class_distribution(df, title):\n",
    "    # Check class distribution\n",
    "    class_counts = df.iloc[:, 0].value_counts()\n",
    "    total_count = len(df)\n",
    "\n",
    "    # Compute percentage\n",
    "    class_percentages = (class_counts / total_count) * 100\n",
    "\n",
    "    # Print class distribution with percentages\n",
    "    print(title)\n",
    "    for label, count in class_counts.items():\n",
    "        print(f\"Class {label}: {count} ({class_percentages[label]:.2f}%)\")\n",
    "\n",
    "    # Visualize distribution\n",
    "    plt.bar(class_counts.index, class_counts.values, color=['blue', 'orange'])\n",
    "    plt.xlabel(\"Label\")\n",
    "    plt.ylabel(\"Count\")\n",
    "    plt.title(title)\n",
    "    plt.xticks([0, 1])\n",
    "    plt.grid(False)\n",
    "    plt.show()"
   ]
  },
  {
   "cell_type": "markdown",
   "id": "b604812e",
   "metadata": {},
   "source": [
    "The class distributions of the `jerbarnes_dataset.csv` and `crowdsourced_dataset.csv`, along with their combined version, are plotted."
   ]
  },
  {
   "cell_type": "code",
   "execution_count": 14,
   "id": "97a3d152",
   "metadata": {},
   "outputs": [
    {
     "name": "stdout",
     "output_type": "stream",
     "text": [
      "Jarbarnes Dataset Class Distribution\n",
      "Class 0: 580 (68.16%)\n",
      "Class 1: 271 (31.84%)\n"
     ]
    },
    {
     "data": {
      "image/png": "[encoded data removed]",
      "text/plain": [
       "<Figure size 640x480 with 1 Axes>"
      ]
     },
     "metadata": {},
     "output_type": "display_data"
    },
    {
     "name": "stdout",
     "output_type": "stream",
     "text": [
      "Crowd-Sourced Dataset Class Distribution\n",
      "Class 1: 885 (55.52%)\n",
      "Class 0: 709 (44.48%)\n"
     ]
    },
    {
     "data": {
      "image/png": "[encoded data removed]",
      "text/plain": [
       "<Figure size 640x480 with 1 Axes>"
      ]
     },
     "metadata": {},
     "output_type": "display_data"
    },
    {
     "name": "stdout",
     "output_type": "stream",
     "text": [
      "Combined Dataset Class Distribution\n",
      "Class 0: 1289 (52.72%)\n",
      "Class 1: 1156 (47.28%)\n"
     ]
    },
    {
     "data": {
      "image/png": "[encoded data removed]",
      "text/plain": [
       "<Figure size 640x480 with 1 Axes>"
      ]
     },
     "metadata": {},
     "output_type": "display_data"
    }
   ],
   "source": [
    "jerbarnes_dataset_path = DATA_DIR/f'jerbarnes_dataset.csv'\n",
    "jerbarnes_df = pd.read_csv(jerbarnes_dataset_path, header=None, names=['label', 'text', 'processed_text'])\n",
    "plot_class_distribution(jerbarnes_df, \"Jarbarnes Dataset Class Distribution\")\n",
    "\n",
    "crowdsourced_dataset_path = DATA_DIR/f'crowdsourced_dataset.csv'\n",
    "crowdsourced_df = pd.read_csv(crowdsourced_dataset_path, header=None, names=['label', 'text', 'processed_text'])\n",
    "plot_class_distribution(crowdsourced_df, \"Crowd-Sourced Dataset Class Distribution\")\n",
    "\n",
    "combined_df = pd.concat([jerbarnes_df, crowdsourced_df])\n",
    "plot_class_distribution(combined_df, \"Combined Dataset Class Distribution\")"
   ]
  }
 ],
 "metadata": {
  "kernelspec": {
   "display_name": ".venv",
   "language": "python",
   "name": "python3"
  },
  "language_info": {
   "codemirror_mode": {
    "name": "ipython",
    "version": 3
   },
   "file_extension": ".py",
   "mimetype": "text/x-python",
   "name": "python",
   "nbconvert_exporter": "python",
   "pygments_lexer": "ipython3",
   "version": "3.11.9"
  }
 },
 "nbformat": 4,
 "nbformat_minor": 5
}
