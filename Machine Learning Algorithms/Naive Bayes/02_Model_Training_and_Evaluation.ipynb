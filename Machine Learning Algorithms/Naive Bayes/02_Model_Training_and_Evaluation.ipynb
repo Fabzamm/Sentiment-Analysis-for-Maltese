{
 "cells": [
  {
   "cell_type": "markdown",
   "metadata": {},
   "source": [
    "# 02: Naive Bayes Model Optimization and Comparative Analysis\n",
    "\n",
    "This notebook constructs and assesses a Naive Bayes sentiment classifier. It first optimizes a baseline model on the `jerbarnes_dataset` by selecting optimal text preprocessing, feature representation, imbalance handling, and classifier hyperparameters. Next, the `crowdsourced_dataset` is added to the `jerbarnes_dataset` training data; the baseline model configuration is retrained on this combined set and evaluated against the original `jerbarnes_dataset` test set. Finally, the model is re-optimized from scratch using the full combined training data. Performance throughout is measured using Stratified K-Fold cross-validation and F1-macro scores."
   ]
  },
  {
   "cell_type": "markdown",
   "metadata": {},
   "source": [
    "This cell imports all required Python libraries for data handling (pandas), machine learning (scikit-learn, imblearn), model persistence (joblib), and visualization (matplotlib, numpy). It also defines the `DATA_DIR` path, pointing to the location of the preprocessed dataset files from Notebook 01."
   ]
  },
  {
   "cell_type": "code",
   "execution_count": 2,
   "metadata": {},
   "outputs": [],
   "source": [
    "from pathlib import Path\n",
    "from sklearn.pipeline import Pipeline\n",
    "from sklearn.feature_extraction.text import CountVectorizer, TfidfVectorizer\n",
    "from sklearn.naive_bayes import MultinomialNB, ComplementNB\n",
    "from sklearn.model_selection import cross_validate, StratifiedKFold, GridSearchCV, train_test_split\n",
    "from sklearn.metrics import classification_report\n",
    "from sklearn.base import BaseEstimator, TransformerMixin\n",
    "from sklearn.pipeline import Pipeline as SklearnPipeline\n",
    "from imblearn.under_sampling import RandomUnderSampler\n",
    "from imblearn.pipeline import Pipeline as ImbPipeline\n",
    "import matplotlib.pyplot as plt\n",
    "import numpy as np\n",
    "import pandas as pd\n",
    "import joblib\n",
    "import preprocessor # preprocessor.py\n",
    "\n",
    "DATA_DIR = Path('./data')"
   ]
  },
  {
   "cell_type": "markdown",
   "metadata": {},
   "source": [
    "The `train_model` function is defined to evaluate scikit-learn pipeline performance. It uses Stratified 5-Fold cross-validation to train and test a given pipeline on input data (`X`, `y`). The function returns a dictionary containing the mean and standard deviation for accuracy, macro-averaged precision, recall, and F1-score."
   ]
  },
  {
   "cell_type": "code",
   "execution_count": 3,
   "metadata": {},
   "outputs": [],
   "source": [
    "def train_model(pipeline, X, y, n_folds=5):\n",
    "    # Create Stratified K-fold cross validator\n",
    "    skf = StratifiedKFold(n_splits=n_folds, shuffle=True, random_state=42)\n",
    "    \n",
    "    # Perform cross validation\n",
    "    scores = cross_validate(pipeline, X, y, \n",
    "                          cv=skf,\n",
    "                          scoring=['accuracy', 'precision_macro', 'recall_macro', 'f1_macro'],\n",
    "                          return_train_score=True)\n",
    "    \n",
    "    # Create dictionary of results\n",
    "    cv_results = {\n",
    "        'accuracy': (scores['test_accuracy'].mean(), scores['test_accuracy'].std() * 2),\n",
    "        'precision': (scores['test_precision_macro'].mean(), scores['test_precision_macro'].std() * 2),\n",
    "        'recall': (scores['test_recall_macro'].mean(), scores['test_recall_macro'].std() * 2),\n",
    "        'f1': (scores['test_f1_macro'].mean(), scores['test_f1_macro'].std() * 2)\n",
    "    }\n",
    "        \n",
    "    return cv_results"
   ]
  },
  {
   "cell_type": "markdown",
   "metadata": {},
   "source": [
    "Two scikit-learn pipelines are defined to test between the MultinomialNB classifier and the ComplementNB classifier. Both classifiers use plain Bag of Words with `min_df=2`; `lowercase=False`, since text case was handled during prior data preprocessing."
   ]
  },
  {
   "cell_type": "code",
   "execution_count": 4,
   "metadata": {},
   "outputs": [],
   "source": [
    "# Create a pipeline with vectorizer and MultinomialNB classifier\n",
    "bow_mnb_pipeline = Pipeline([\n",
    "    ('vectorizer', CountVectorizer(min_df=2, lowercase=False, strip_accents=None, stop_words=None)),\n",
    "    ('classifier', MultinomialNB())\n",
    "])\n",
    "\n",
    "# Create a pipeline with vectorizer and ComplementNB classifier\n",
    "bow_cnb_pipeline = Pipeline([\n",
    "    ('vectorizer', CountVectorizer(min_df=2, lowercase=False, strip_accents=None, stop_words=None)),\n",
    "    ('classifier', ComplementNB())\n",
    "])\n",
    "\n",
    "pipelines = [bow_mnb_pipeline, bow_cnb_pipeline]\n",
    "pipeline_names = ['Multinomial (Bag of Words)', 'Complement (Bag of Words)']"
   ]
  },
  {
   "cell_type": "markdown",
   "metadata": {},
   "source": [
    "The `tokenizer_configs` list defines the four text preprocessing strategies (combinations of full/selective lowercasing and with/without lemmatization) that were applied to the `jerbarnes_dataset` in Notebook 01. A configuration representing no preprocessing (no case folding and no lemmatization) is also defined."
   ]
  },
  {
   "cell_type": "code",
   "execution_count": 5,
   "metadata": {},
   "outputs": [],
   "source": [
    "# Define tokenizer configurations\n",
    "tokenizer_configs = [\n",
    "    {\n",
    "        'case_folding_type': 0,  # no case folding\n",
    "        'lemmatize': False,\n",
    "        'output_suffix': 'no_preprocessing'\n",
    "    },\n",
    "    {\n",
    "        'case_folding_type': 2,  # full lowercasing\n",
    "        'lemmatize': True,\n",
    "        'output_suffix': 'lowercased_lemmatized'\n",
    "    },\n",
    "    {\n",
    "        'case_folding_type': 2,  # full lowercasing\n",
    "        'lemmatize': False,\n",
    "        'output_suffix': 'lowercased_no_lemmatization'\n",
    "    },\n",
    "    {\n",
    "        'case_folding_type': 1,  # selective lowercasing\n",
    "        'lemmatize': True,\n",
    "        'output_suffix': 'selective_lowercased_lemmatized'\n",
    "    },\n",
    "    {\n",
    "        'case_folding_type': 1,  # selective lowercasing\n",
    "        'lemmatize': False,\n",
    "        'output_suffix': 'selective_lowercased_no_lemmatization'\n",
    "    },\n",
    "    {\n",
    "        'case_folding_type': 1,  # selective lowercasing\n",
    "        'lemmatize': False,\n",
    "        'output_suffix': 'selective_lowercased_no_lemmatization'\n",
    "    }\n",
    "]"
   ]
  },
  {
   "cell_type": "markdown",
   "metadata": {},
   "source": [
    "To identify the most effective combination of text preprocessing and classifier for the `jerbarnes_dataset`, an experiment is conducted. The code iterates through each of the five versions of the `jerbarnes_dataset` (four preprocessed, one raw). For each version, both classifiers are trained and evaluated via the `train_model` cross-validation function, using only the 80% training split. The F1-macro scores (mean and standard deviation) are collected for all 16 resulting combinations."
   ]
  },
  {
   "cell_type": "code",
   "execution_count": 6,
   "metadata": {},
   "outputs": [
    {
     "name": "stdout",
     "output_type": "stream",
     "text": [
      "\n",
      "data\\jerbarnes_dataset.csv\n",
      "Pipeline: Multinomial (Bag of Words)\n",
      "Pipeline: Complement (Bag of Words)\n",
      "\n",
      "data\\jerbarnes_dataset_lowercased_lemmatized.csv\n",
      "Pipeline: Multinomial (Bag of Words)\n",
      "Pipeline: Complement (Bag of Words)\n",
      "\n",
      "data\\jerbarnes_dataset_lowercased_no_lemmatization.csv\n",
      "Pipeline: Multinomial (Bag of Words)\n",
      "Pipeline: Complement (Bag of Words)\n",
      "\n",
      "data\\jerbarnes_dataset_selective_lowercased_lemmatized.csv\n",
      "Pipeline: Multinomial (Bag of Words)\n",
      "Pipeline: Complement (Bag of Words)\n",
      "\n",
      "data\\jerbarnes_dataset_selective_lowercased_no_lemmatization.csv\n",
      "Pipeline: Multinomial (Bag of Words)\n",
      "Pipeline: Complement (Bag of Words)\n",
      "\n",
      "data\\jerbarnes_dataset_selective_lowercased_no_lemmatization.csv\n",
      "Pipeline: Multinomial (Bag of Words)\n",
      "Pipeline: Complement (Bag of Words)\n"
     ]
    }
   ],
   "source": [
    "f1_scores = {}\n",
    "\n",
    "for config in tokenizer_configs:\n",
    "    if config['output_suffix'] == 'no_preprocessing':\n",
    "        # Load raw dataset\n",
    "        dataset_path = DATA_DIR / 'jerbarnes_dataset.csv'\n",
    "\n",
    "        df = pd.read_csv(dataset_path, header=None, names=['label', 'text'])\n",
    "        X = df['text']\n",
    "        y = df['label']\n",
    "\n",
    "    else:\n",
    "        dataset_path = DATA_DIR / f'jerbarnes_dataset_{config[\"output_suffix\"]}.csv'\n",
    "        df = pd.read_csv(dataset_path, header=None, names=['label', 'text', 'processed_text'])\n",
    "        X = df['processed_text']\n",
    "        y = df['label']\n",
    "\n",
    "    config_name = config[\"output_suffix\"]\n",
    "    print(f\"\\n{dataset_path}\")\n",
    "\n",
    "    # Split the data into training and testing sets\n",
    "    X_train, X_test, y_train, y_test = train_test_split(X, y, test_size=0.2, random_state=42)\n",
    "\n",
    "    # Use only the training set for hyperoptimization\n",
    "    for name, pipeline in zip(pipeline_names, pipelines):\n",
    "        print(f\"Pipeline: {name}\")\n",
    "        results = train_model(pipeline, X_train, y_train)\n",
    "\n",
    "        # Ensure nested dictionary structure exists\n",
    "        if config_name not in f1_scores:\n",
    "            f1_scores[config_name] = {}\n",
    "\n",
    "        # Store F1-score mean and std\n",
    "        f1_scores[config_name][name] = results['f1']"
   ]
  },
  {
   "cell_type": "markdown",
   "metadata": {},
   "source": [
    "The `plot_f1_scores` function creates a grouped bar chart to visually compare the F1-macro scores from the previous experiment. This chart displays the mean F1-scores, with error bars representing ±2 standard deviations, for each classifier across the five preprocessing methods used on the `jerbarnes_dataset`."
   ]
  },
  {
   "cell_type": "code",
   "execution_count": 7,
   "metadata": {},
   "outputs": [
    {
     "data": {
      "image/png": "[encoded data removed]",
      "text/plain": [
       "<Figure size 1200x600 with 1 Axes>"
      ]
     },
     "metadata": {},
     "output_type": "display_data"
    }
   ],
   "source": [
    "def plot_f1_scores(f1_scores):\n",
    "    # Set basic style parameters\n",
    "    plt.rcParams['figure.facecolor'] = 'white'\n",
    "    plt.rcParams['axes.grid'] = True\n",
    "    \n",
    "    # Get dimensions\n",
    "    configs = list(f1_scores.keys())\n",
    "    pipelines = list(f1_scores[configs[0]].keys())\n",
    "    \n",
    "    # Set up the plot\n",
    "    fig, ax = plt.subplots(figsize=(12, 6))\n",
    "    \n",
    "    # Calculate bar positions\n",
    "    x = np.arange(len(configs))\n",
    "    width = 0.2  # Width of bars\n",
    "    \n",
    "    # Define colors for better visibility\n",
    "    colors = ['#1f77b4', '#ff7f0e', '#2ca02c', '#d62728', '#9467bd', '#8c564b', '#e377c2', '#7f7f7f']\n",
    "\n",
    "    # Plot bars for each pipeline\n",
    "    for i, (pipeline, color) in enumerate(zip(pipelines, colors)):\n",
    "        means = [f1_scores[config][pipeline][0] for config in configs]\n",
    "        stds = [f1_scores[config][pipeline][1] for config in configs]\n",
    "        \n",
    "        ax.bar(x + i*width - (len(pipelines)-1)*width/2, \n",
    "               means,\n",
    "               width,\n",
    "               label=pipeline,\n",
    "               yerr=stds,\n",
    "               capsize=5,\n",
    "               color=color,\n",
    "               alpha=0.7)\n",
    "    \n",
    "    # Customize the plot\n",
    "    ax.set_ylabel('F1 Score')\n",
    "    ax.set_title('F1 Scores by Preprocessing Configuration and Classifier Type')\n",
    "    ax.set_xticks(x)\n",
    "    ax.set_xticklabels(configs, rotation=15, ha='right')\n",
    "    ax.legend(bbox_to_anchor=(1.05, 1), loc='upper left')\n",
    "    \n",
    "    # Add grid for better readability\n",
    "    ax.grid(True, axis='y', linestyle='--', alpha=0.3)\n",
    "    \n",
    "    # Set y-axis limits to focus on the relevant range\n",
    "    ax.set_ylim(0.4, 0.8)\n",
    "    \n",
    "    # Adjust layout to prevent label cutoff\n",
    "    plt.tight_layout()\n",
    "    \n",
    "    return fig\n",
    "\n",
    "# Create the plot\n",
    "fig = plot_f1_scores(f1_scores)\n",
    "\n",
    "# Show the plot\n",
    "plt.show()"
   ]
  },
  {
   "cell_type": "markdown",
   "metadata": {},
   "source": [
    "The `analyze_f1_scores` function processes the collected F1-scores to quantitatively identify the top-performing configurations on the `jerbarnes_dataset`. It prints the top 3 combinations based on three criteria: highest mean F1-score, lowest standard deviation (stability), and the best score from (mean F1 - standard deviation)."
   ]
  },
  {
   "cell_type": "code",
   "execution_count": 8,
   "metadata": {},
   "outputs": [
    {
     "name": "stdout",
     "output_type": "stream",
     "text": [
      "\n",
      "Top 3 by mean F1 score:\n",
      "Config: selective_lowercased_lemmatized, Pipeline: Complement (Bag of Words)\n",
      "F1: 0.682 (±0.074)\n",
      "Config: lowercased_lemmatized, Pipeline: Complement (Bag of Words)\n",
      "F1: 0.680 (±0.079)\n",
      "Config: lowercased_no_lemmatization, Pipeline: Complement (Bag of Words)\n",
      "F1: 0.676 (±0.066)\n",
      "\n",
      "Top 3 by stability (lowest std):\n",
      "Preprocessing: lowercased_no_lemmatization, Classifier: Multinomial (Bag of Words)\n",
      "F1: 0.638 (±0.025)\n",
      "Preprocessing: selective_lowercased_no_lemmatization, Classifier: Multinomial (Bag of Words)\n",
      "F1: 0.648 (±0.037)\n",
      "Preprocessing: no_preprocessing, Classifier: Multinomial (Bag of Words)\n",
      "F1: 0.655 (±0.050)\n",
      "\n",
      "Top 3 by combined performance (mean - std):\n",
      "Preprocessing: lowercased_no_lemmatization, Classifier: Multinomial (Bag of Words)\n",
      "F1: 0.638 (±0.025)\n",
      "Preprocessing: selective_lowercased_no_lemmatization, Classifier: Multinomial (Bag of Words)\n",
      "F1: 0.648 (±0.037)\n",
      "Preprocessing: lowercased_no_lemmatization, Classifier: Complement (Bag of Words)\n",
      "F1: 0.676 (±0.066)\n"
     ]
    }
   ],
   "source": [
    "def analyze_f1_scores(f1_scores):\n",
    "    # Create a flat list of all combinations with their scores\n",
    "    results = []\n",
    "    for config in f1_scores:\n",
    "        for pipeline in f1_scores[config]:\n",
    "            mean, std = f1_scores[config][pipeline]\n",
    "            results.append({\n",
    "                'config': config,\n",
    "                'pipeline': pipeline,\n",
    "                'mean_f1': mean,\n",
    "                'std_f1': std,\n",
    "                'mean_minus_std': mean - std  # A measure of stable performance\n",
    "            })\n",
    "    \n",
    "    # Convert to sorted lists\n",
    "    # Best mean F1 scores\n",
    "    best_mean = sorted(results, key=lambda x: x['mean_f1'], reverse=True)[:3]\n",
    "    print(\"\\nTop 3 by mean F1 score:\")\n",
    "    for result in best_mean:\n",
    "        print(f\"Config: {result['config']}, Pipeline: {result['pipeline']}\")\n",
    "        print(f\"F1: {result['mean_f1']:.3f} (±{result['std_f1']:.3f})\")\n",
    "    \n",
    "    # Most stable (lowest standard deviation)\n",
    "    most_stable = sorted(results, key=lambda x: x['std_f1'])[:3]\n",
    "    print(\"\\nTop 3 by stability (lowest std):\")\n",
    "    for result in most_stable:\n",
    "        print(f\"Preprocessing: {result['config']}, Classifier: {result['pipeline']}\")\n",
    "        print(f\"F1: {result['mean_f1']:.3f} (±{result['std_f1']:.3f})\")\n",
    "    \n",
    "    # Best combination of high mean and low std\n",
    "    best_stable = sorted(results, key=lambda x: x['mean_minus_std'], reverse=True)[:3]\n",
    "    print(\"\\nTop 3 by combined performance (mean - std):\")\n",
    "    for result in best_stable:\n",
    "        print(f\"Preprocessing: {result['config']}, Classifier: {result['pipeline']}\")\n",
    "        print(f\"F1: {result['mean_f1']:.3f} (±{result['std_f1']:.3f})\")\n",
    "\n",
    "# Run the analysis\n",
    "analyze_f1_scores(f1_scores)"
   ]
  },
  {
   "cell_type": "markdown",
   "metadata": {},
   "source": [
    "The F1-score analysis on the jerbarnes_dataset (80% training split) shows that the `lowercased_no_lemmatization` preprocessing with the `MultinomialNB` classifier offers the best combination of mean F1-score and stability (i.e., lowest standard deviation). However, the `selective_lowercased_lemmatized` preprocessing with the `ComplementNB` classifier achieves the highest mean F1-score (0.682 ± 0.074), albeit with a significantly higher standard deviation.\n",
    "\n",
    "When analyzing the graph, the lower bound of this model’s error bars is only marginally below that of the MultinomialNB setup. Given its superior average F1-score and comparable worst-case performance, the `selective_lowercased_lemmatized` + `ComplementNB` configuration is selected for offering greater potential without a meaningful drop in stability."
   ]
  },
  {
   "cell_type": "markdown",
   "metadata": {},
   "source": [
    "Four scikit-learn pipelines are defined to test different text feature representation methods with a `ComplementNB` classifier and `selective_lowercased_lemmatized` dataset. These methods are TF-IDF, Bag-of-Words (CountVectorizer), Bag-of-Words with unigrams and bigrams and Bag-of-Words with only bigrams. All vectorizers use `min_df=2`; `lowercase=False` is set because text case was handled during prior data preprocessing."
   ]
  },
  {
   "cell_type": "code",
   "execution_count": 9,
   "metadata": {},
   "outputs": [],
   "source": [
    "# Create a pipeline with TF-IDF vectorizer and classifier\n",
    "tfidf_pipeline = Pipeline([\n",
    "    ('vectorizer', TfidfVectorizer(min_df=2, lowercase=False, strip_accents=None, stop_words=None)),\n",
    "    ('classifier', ComplementNB())\n",
    "])\n",
    "\n",
    "# Create a pipeline with vectorizer and classifier\n",
    "bow_pipeline = Pipeline([\n",
    "    ('vectorizer', CountVectorizer(min_df=2, lowercase=False, strip_accents=None, stop_words=None)),\n",
    "    ('classifier', ComplementNB())\n",
    "])\n",
    "\n",
    "# Create a pipeline with N-grams vectorizer  (unigrams and bigrams) and classifier\n",
    "ngram_pipeline_1_2 = Pipeline([\n",
    "    ('vectorizer', CountVectorizer(min_df=2, lowercase=False, strip_accents=None, \n",
    "                                 stop_words=None, ngram_range=(1, 2))),  # Use both unigrams and bigrams\n",
    "    ('classifier', ComplementNB())\n",
    "])\n",
    "\n",
    "# Create a pipeline with N-grams vectorizer (bigrams only) and classifier\n",
    "ngram_pipeline_2_2 = Pipeline([\n",
    "    ('vectorizer', CountVectorizer(min_df=2, lowercase=False, strip_accents=None, \n",
    "                                 stop_words=None, ngram_range=(2, 2))),  # Use both unigrams and bigrams\n",
    "    ('classifier', ComplementNB())\n",
    "])\n",
    "\n",
    "pipelines = [tfidf_pipeline, bow_pipeline, ngram_pipeline_1_2, ngram_pipeline_2_2]\n",
    "pipeline_names = ['TF-IDF', 'Bag of Words', 'Ngrams (1-2)', 'Ngrams (2-2)']"
   ]
  },
  {
   "cell_type": "code",
   "execution_count": 10,
   "metadata": {},
   "outputs": [
    {
     "name": "stdout",
     "output_type": "stream",
     "text": [
      "Pipeline: TF-IDF\n",
      "Pipeline: Bag of Words\n",
      "Pipeline: Ngrams (1-2)\n",
      "Pipeline: Ngrams (2-2)\n"
     ]
    }
   ],
   "source": [
    "# Load the dataset\n",
    "dataset_path = DATA_DIR/f'jerbarnes_dataset_selective_lowercased_lemmatized.csv'\n",
    "df = pd.read_csv(dataset_path, header=None, names=['label', 'text', 'processed_text'])\n",
    "\n",
    "# Split data into features and target\n",
    "X = df['processed_text']\n",
    "y = df['label']\n",
    "\n",
    "# Split the data into training and testing sets\n",
    "X_train, X_test, y_train, y_test = train_test_split(X, y, test_size=0.2, random_state=42)\n",
    "\n",
    "f1_scores = {}\n",
    "\n",
    "# Single loop through pipelines only\n",
    "for name, pipeline in zip(pipeline_names, pipelines):\n",
    "    print(f\"Pipeline: {name}\")\n",
    "    results = train_model(pipeline, X_train, y_train)\n",
    "    \n",
    "    # Store F1-score mean and std\n",
    "    f1_scores[name] = results['f1']"
   ]
  },
  {
   "cell_type": "code",
   "execution_count": 11,
   "metadata": {},
   "outputs": [
    {
     "data": {
      "image/png": "[encoded data removed]",
      "text/plain": [
       "<Figure size 1000x600 with 1 Axes>"
      ]
     },
     "metadata": {},
     "output_type": "display_data"
    }
   ],
   "source": [
    "def plot_f1_scores(f1_scores):\n",
    "    # Set basic style parameters\n",
    "    plt.rcParams['figure.facecolor'] = 'white'\n",
    "    plt.rcParams['axes.grid'] = True\n",
    "\n",
    "    # Get dimensions\n",
    "    pipelines = list(f1_scores.keys())\n",
    "\n",
    "    # Set up the plot\n",
    "    fig, ax = plt.subplots(figsize=(10, 6))\n",
    "\n",
    "    # Calculate bar positions\n",
    "    x = np.arange(len(pipelines))\n",
    "    width = 0.5  # Can be wider now since we don't need to group bars\n",
    "\n",
    "    # Define colors for better visibility\n",
    "    colors = ['#1f77b4', '#ff7f0e', '#2ca02c', '#d62728']\n",
    "\n",
    "    # Plot bars for each pipeline\n",
    "    means = [f1_scores[pipeline][0] for pipeline in pipelines]\n",
    "    stds = [f1_scores[pipeline][1] for pipeline in pipelines]\n",
    "    \n",
    "    bars = ax.bar(x, means, width, \n",
    "                  yerr=stds, \n",
    "                  capsize=5, \n",
    "                  color=colors[:len(pipelines)], \n",
    "                  alpha=0.7)\n",
    "\n",
    "    # Customize the plot\n",
    "    ax.set_ylabel('F1 Score')\n",
    "    ax.set_title('F1 Scores by Feature Representation Type')\n",
    "    ax.set_xticks(x)\n",
    "    ax.set_xticklabels(pipelines, rotation=45, ha='right')\n",
    "\n",
    "    # Add grid for better readability\n",
    "    ax.grid(True, axis='y', linestyle='--', alpha=0.3)\n",
    "\n",
    "    # Set y-axis limits to focus on the relevant range\n",
    "    ax.set_ylim(0.4, 0.8)\n",
    "\n",
    "    # Add value labels on top of bars\n",
    "    for bar in bars:\n",
    "        height = bar.get_height()\n",
    "        ax.text(bar.get_x() + bar.get_width()/2., height,\n",
    "                f'{height:.3f}',\n",
    "                ha='center', va='bottom')\n",
    "\n",
    "    # Adjust layout to prevent label cutoff\n",
    "    plt.tight_layout()\n",
    "    \n",
    "    return fig\n",
    "\n",
    "# Create the plot\n",
    "fig = plot_f1_scores(f1_scores)\n",
    "\n",
    "# Show the plot\n",
    "plt.show()"
   ]
  },
  {
   "cell_type": "code",
   "execution_count": 12,
   "metadata": {},
   "outputs": [
    {
     "name": "stdout",
     "output_type": "stream",
     "text": [
      "\n",
      "Pipelines ranked by mean F1 score:\n",
      "Pipeline: Bag of Words\n",
      "F1: 0.682 (±0.074)\n",
      "Pipeline: Ngrams (1-2)\n",
      "F1: 0.677 (±0.048)\n",
      "Pipeline: TF-IDF\n",
      "F1: 0.664 (±0.049)\n",
      "\n",
      "Pipelines ranked by stability (lowest std):\n",
      "Pipeline: Ngrams (1-2)\n",
      "F1: 0.677 (±0.048)\n",
      "Pipeline: TF-IDF\n",
      "F1: 0.664 (±0.049)\n",
      "Pipeline: Ngrams (2-2)\n",
      "F1: 0.591 (±0.058)\n",
      "\n",
      "Pipelines ranked by combined performance (mean - std):\n",
      "Pipeline: Ngrams (1-2)\n",
      "F1: 0.677 (±0.048)\n",
      "Pipeline: TF-IDF\n",
      "F1: 0.664 (±0.049)\n",
      "Pipeline: Bag of Words\n",
      "F1: 0.682 (±0.074)\n"
     ]
    }
   ],
   "source": [
    "def analyze_f1_scores(f1_scores):\n",
    "    # Create a flat list of all pipelines with their scores\n",
    "    results = []\n",
    "    for pipeline in f1_scores:\n",
    "        mean, std = f1_scores[pipeline]\n",
    "        results.append({\n",
    "            'pipeline': pipeline,\n",
    "            'mean_f1': mean,\n",
    "            'std_f1': std,\n",
    "            'mean_minus_std': mean - std  # A measure of stable performance\n",
    "        })\n",
    "\n",
    "    # Best mean F1 scores\n",
    "    best_mean = sorted(results, key=lambda x: x['mean_f1'], reverse=True)[:3]\n",
    "    print(\"\\nPipelines ranked by mean F1 score:\")\n",
    "    for result in best_mean:\n",
    "        print(f\"Pipeline: {result['pipeline']}\")\n",
    "        print(f\"F1: {result['mean_f1']:.3f} (±{result['std_f1']:.3f})\")\n",
    "\n",
    "    # Most stable (lowest standard deviation)\n",
    "    most_stable = sorted(results, key=lambda x: x['std_f1'])[:3]\n",
    "    print(\"\\nPipelines ranked by stability (lowest std):\")\n",
    "    for result in most_stable:\n",
    "        print(f\"Pipeline: {result['pipeline']}\")\n",
    "        print(f\"F1: {result['mean_f1']:.3f} (±{result['std_f1']:.3f})\")\n",
    "\n",
    "    # Best combination of high mean and low std\n",
    "    best_stable = sorted(results, key=lambda x: x['mean_minus_std'], reverse=True)[:3]\n",
    "    print(\"\\nPipelines ranked by combined performance (mean - std):\")\n",
    "    for result in best_stable:\n",
    "        print(f\"Pipeline: {result['pipeline']}\")\n",
    "        print(f\"F1: {result['mean_f1']:.3f} (±{result['std_f1']:.3f})\")\n",
    "\n",
    "# Run the analysis\n",
    "analyze_f1_scores(f1_scores)"
   ]
  },
  {
   "cell_type": "markdown",
   "metadata": {},
   "source": [
    "The analysis of F1-scores on the `jerbarnes_dataset_selective_lowercased_lemmatized` dataset indicates that N-grams (1-2) feature representation offers the most effective balance of high mean F1-score and stability. Its mean F1 score is negligibly lower than the absolute highest (Bag of Words) while having a significantly better performance floor (Mean - Std). This configuration is therefore selected for the subsequent experiments."
   ]
  },
  {
   "cell_type": "markdown",
   "metadata": {},
   "source": [
    "Having selected 'selective_lowercased_lemmatized' preprocessing using a ComplementalNB with 'Ngrams (1-2)' feature representation, the next stage explores strategies to address the class imbalance in the `jerbarnes_dataset`. Five pipeline configurations are defined: a baseline Naive Bayes without specific imbalance handling, Naive Bayes with adjusted class priors for a 50/50 balance, and three Naive Bayes pipelines combined with `RandomUnderSampler` using different `sampling_strategy` values (0.5 for a 2:1 majority-to-minority ratio, 0.7 for a closer balance, and 1.0 for a fully balanced 1:1 ratio)."
   ]
  },
  {
   "cell_type": "code",
   "execution_count": 13,
   "metadata": {},
   "outputs": [],
   "source": [
    "# Current Pipeline\n",
    "naive_bayes = Pipeline([\n",
    "    ('vectorizer', CountVectorizer(min_df=2, lowercase=False, strip_accents=None, \n",
    "                                 stop_words=None, ngram_range=(1, 2))),  # Use both unigrams and bigrams\n",
    "    ('classifier', ComplementNB())\n",
    "])\n",
    "\n",
    "# Class Prior Adjustment\n",
    "naive_bayes_balanced = Pipeline([\n",
    "    ('vectorizer', CountVectorizer(min_df=2, lowercase=False, strip_accents=None, \n",
    "                                 stop_words=None, ngram_range=(1, 2))),  # Use both unigrams and bigrams\n",
    "    ('classifier', ComplementNB(fit_prior=True, class_prior=[0.5, 0.5]))  # Equal class weights\n",
    "])\n",
    "\n",
    "# Imbalanced-Learn Pipelines with Undersampling\n",
    "undersampling_50 = ImbPipeline([\n",
    "    ('vectorizer', CountVectorizer(min_df=2, lowercase=False, strip_accents=None, \n",
    "                                 stop_words=None, ngram_range=(1, 2))),  # Use both unigrams and bigrams\n",
    "    ('undersampler', RandomUnderSampler(sampling_strategy=0.5, random_state=42)),  # 2:1 ratio\n",
    "    ('classifier', ComplementNB())\n",
    "])\n",
    "\n",
    "undersampling_70 = ImbPipeline([\n",
    "    ('vectorizer', CountVectorizer(min_df=2, lowercase=False, strip_accents=None, \n",
    "                                 stop_words=None, ngram_range=(1, 2))),  # Use both unigrams and bigrams\n",
    "    ('undersampler', RandomUnderSampler(sampling_strategy=0.7, random_state=42)),  # Closer balance\n",
    "    ('classifier', ComplementNB())\n",
    "])\n",
    "\n",
    "undersampling_100 = ImbPipeline([\n",
    "    ('vectorizer', CountVectorizer(min_df=2, lowercase=False, strip_accents=None, \n",
    "                                 stop_words=None, ngram_range=(1, 2))),  # Use both unigrams and bigrams\n",
    "    ('undersampler', RandomUnderSampler(sampling_strategy=1, random_state=42)),  # Fully balanced\n",
    "    ('classifier', ComplementNB())\n",
    "])\n",
    "\n",
    "# List of Pipelines and Names\n",
    "pipelines = [naive_bayes, naive_bayes_balanced, undersampling_50, undersampling_70, undersampling_100]\n",
    "pipeline_names = ['Baseline Naïve Bayes', 'Class Prior Adjustment', 'Undersampling 50%', 'Undersampling 70%', 'Undersampling 100%']"
   ]
  },
  {
   "cell_type": "markdown",
   "metadata": {},
   "source": [
    "The `jerbarnes_dataset_selective_lowercased_lemmatized` is loaded into a pandas DataFrame. Each of the five defined imbalance handling pipelines is then trained and evaluated on the training set data using the `train_model` cross-validation function. F1-macro scores (mean and standard deviation) are collected for each pipeline."
   ]
  },
  {
   "cell_type": "code",
   "execution_count": 14,
   "metadata": {},
   "outputs": [
    {
     "name": "stdout",
     "output_type": "stream",
     "text": [
      "Pipeline: Baseline Naïve Bayes\n",
      "Pipeline: Class Prior Adjustment\n",
      "Pipeline: Undersampling 50%\n",
      "Pipeline: Undersampling 70%\n",
      "Pipeline: Undersampling 100%\n"
     ]
    }
   ],
   "source": [
    "# Load the dataset\n",
    "dataset_path = DATA_DIR/f'jerbarnes_dataset_selective_lowercased_lemmatized.csv'\n",
    "df = pd.read_csv(dataset_path, header=None, names=['label', 'text', 'processed_text'])\n",
    "\n",
    "# Split data into features and target\n",
    "X = df['processed_text']\n",
    "y = df['label']\n",
    "\n",
    "# Split the data into training and testing sets\n",
    "X_train, X_test, y_train, y_test = train_test_split(X, y, test_size=0.2, random_state=42)\n",
    "\n",
    "f1_scores = {}\n",
    "\n",
    "# Single loop through pipelines only\n",
    "for name, pipeline in zip(pipeline_names, pipelines):\n",
    "    print(f\"Pipeline: {name}\")\n",
    "    results = train_model(pipeline, X_train, y_train)\n",
    "    \n",
    "    # Store F1-score mean and std\n",
    "    f1_scores[name] = results['f1']"
   ]
  },
  {
   "cell_type": "code",
   "execution_count": 15,
   "metadata": {},
   "outputs": [
    {
     "data": {
      "image/png": "[encoded data removed]",
      "text/plain": [
       "<Figure size 1000x600 with 1 Axes>"
      ]
     },
     "metadata": {},
     "output_type": "display_data"
    }
   ],
   "source": [
    "def plot_f1_scores(f1_scores):\n",
    "    # Set basic style parameters\n",
    "    plt.rcParams['figure.facecolor'] = 'white'\n",
    "    plt.rcParams['axes.grid'] = True\n",
    "\n",
    "    # Get dimensions\n",
    "    pipelines = list(f1_scores.keys())\n",
    "\n",
    "    # Set up the plot\n",
    "    fig, ax = plt.subplots(figsize=(10, 6))\n",
    "\n",
    "    # Calculate bar positions\n",
    "    x = np.arange(len(pipelines))\n",
    "    width = 0.5  # Can be wider now since we don't need to group bars\n",
    "\n",
    "    # Define colors for better visibility\n",
    "    colors = ['#1f77b4', '#ff7f0e', '#2ca02c', '#d62728']\n",
    "\n",
    "    # Plot bars for each pipeline\n",
    "    means = [f1_scores[pipeline][0] for pipeline in pipelines]\n",
    "    stds = [f1_scores[pipeline][1] for pipeline in pipelines]\n",
    "    \n",
    "    bars = ax.bar(x, means, width, \n",
    "                  yerr=stds, \n",
    "                  capsize=5, \n",
    "                  color=colors[:len(pipelines)], \n",
    "                  alpha=0.7)\n",
    "\n",
    "    # Customize the plot\n",
    "    ax.set_ylabel('F1 Score')\n",
    "    ax.set_title('F1 Scores by Resampling Strategies')\n",
    "    ax.set_xticks(x)\n",
    "    ax.set_xticklabels(pipelines, rotation=45, ha='right')\n",
    "\n",
    "    # Add grid for better readability\n",
    "    ax.grid(True, axis='y', linestyle='--', alpha=0.3)\n",
    "\n",
    "    # Set y-axis limits to focus on the relevant range\n",
    "    ax.set_ylim(0.4, 0.8)\n",
    "\n",
    "    # Add value labels on top of bars\n",
    "    for bar in bars:\n",
    "        height = bar.get_height()\n",
    "        ax.text(bar.get_x() + bar.get_width()/2., height,\n",
    "                f'{height:.3f}',\n",
    "                ha='center', va='bottom')\n",
    "\n",
    "    # Adjust layout to prevent label cutoff\n",
    "    plt.tight_layout()\n",
    "    \n",
    "    return fig\n",
    "\n",
    "# Create the plot\n",
    "fig = plot_f1_scores(f1_scores)\n",
    "\n",
    "# Show the plot\n",
    "plt.show()"
   ]
  },
  {
   "cell_type": "markdown",
   "metadata": {},
   "source": [
    "The `analyze_f1_scores` function processes the collected F1-scores from the imbalance handling experiment. It identifies and prints the top 3 performing pipelines based on highest mean F1-score, lowest standard deviation (stability), and the best score from (mean F1 - standard deviation)."
   ]
  },
  {
   "cell_type": "code",
   "execution_count": 16,
   "metadata": {},
   "outputs": [
    {
     "name": "stdout",
     "output_type": "stream",
     "text": [
      "\n",
      "Pipelines ranked by mean F1 score:\n",
      "Pipeline: Undersampling 50%\n",
      "F1: 0.679 (±0.052)\n",
      "Pipeline: Baseline Naïve Bayes\n",
      "F1: 0.677 (±0.048)\n",
      "Pipeline: Class Prior Adjustment\n",
      "F1: 0.677 (±0.048)\n",
      "\n",
      "Pipelines ranked by stability (lowest std):\n",
      "Pipeline: Baseline Naïve Bayes\n",
      "F1: 0.677 (±0.048)\n",
      "Pipeline: Class Prior Adjustment\n",
      "F1: 0.677 (±0.048)\n",
      "Pipeline: Undersampling 50%\n",
      "F1: 0.679 (±0.052)\n",
      "\n",
      "Pipelines ranked by combined performance (mean - std):\n",
      "Pipeline: Baseline Naïve Bayes\n",
      "F1: 0.677 (±0.048)\n",
      "Pipeline: Class Prior Adjustment\n",
      "F1: 0.677 (±0.048)\n",
      "Pipeline: Undersampling 50%\n",
      "F1: 0.679 (±0.052)\n"
     ]
    }
   ],
   "source": [
    "# Run the analysis\n",
    "analyze_f1_scores(f1_scores)"
   ]
  },
  {
   "cell_type": "markdown",
   "metadata": {},
   "source": [
    "The F1-score analysis for imbalance handling strategies on the dataset indicates that Baseline (Complemental) Naïve Bayes provides the best balance of mean F1 score and stability. This strategy is therefore selected for the final hyperparameter tuning stage of the baseline Jerbarnes model."
   ]
  },
  {
   "cell_type": "markdown",
   "metadata": {},
   "source": [
    "The final optimization step for the Jerbarnes model is tuning the `alpha` (smoothing parameter) of the classifier. A `param_grid` is defined with a range of `alpha` values: `[0.01, 0.1, 0.25, 0.5, 0.75, 1.0, 2.0, 5.0]`. `GridSearchCV` is then configured to find the best `alpha` for the `naive_bayes` pipeline. As in previous steps, the search uses 5-fold stratified cross-validation and optimizes for the `f1_macro` score.\n",
    "\n",
    "The grid search is then executed and the best `alpha` parameter and corresponding best F1-macro score are printed."
   ]
  },
  {
   "cell_type": "code",
   "execution_count": 17,
   "metadata": {},
   "outputs": [
    {
     "name": "stdout",
     "output_type": "stream",
     "text": [
      "Best parameters: {'classifier__alpha': 0.75}\n",
      "Best F1-macro: 0.6887236786447952\n"
     ]
    }
   ],
   "source": [
    "# Define parameter grid\n",
    "param_grid = {\n",
    "    'classifier__alpha': [0.01, 0.1, 0.25, 0.5, 0.75, 1.0, 2.0, 5.0]\n",
    "}\n",
    "\n",
    "# Create grid search with your best pipeline\n",
    "grid_search = GridSearchCV(\n",
    "    naive_bayes,\n",
    "    param_grid,\n",
    "    cv=StratifiedKFold(n_splits=5, shuffle=True, random_state=42),\n",
    "    scoring='f1_macro',\n",
    "    n_jobs=-1\n",
    ")\n",
    "\n",
    "# Fit grid search\n",
    "grid_search.fit(X_train, y_train)\n",
    "\n",
    "# Get best parameters\n",
    "print(f\"Best parameters: {grid_search.best_params_}\")\n",
    "print(f\"Best F1-macro: {grid_search.best_score_}\")\n"
   ]
  },
  {
   "cell_type": "markdown",
   "metadata": {},
   "source": [
    "The `jerbarnes_dataset_selective_lowercased_lemmatized` data is loaded again. The optimal pipeline configuration for the Jerbarnes dataset (N-Grams (1-2), No undersampling, and `ComplementalNB` with an `alpha` of 0.75) is instantiated as `optimized_model`. To evaluate its performance on unseen data, the dataset is split into an 80% training set and a 20% test set. The `optimized_model` is then trained on this specific training split and evaluated on the corresponding test split. The full classification report for this \"Optimized Jerbarnes Model\" (henceforth Model A) is printed, and its metrics are stored as a dictionary in `model_a_results` for later comparisons."
   ]
  },
  {
   "cell_type": "code",
   "execution_count": 18,
   "metadata": {},
   "outputs": [
    {
     "name": "stdout",
     "output_type": "stream",
     "text": [
      "              precision    recall  f1-score   support\n",
      "\n",
      "           0       0.79      0.82      0.81       119\n",
      "           1       0.55      0.50      0.53        52\n",
      "\n",
      "    accuracy                           0.73       171\n",
      "   macro avg       0.67      0.66      0.67       171\n",
      "weighted avg       0.72      0.73      0.72       171\n",
      "\n"
     ]
    }
   ],
   "source": [
    "# Load the dataset\n",
    "dataset_path = DATA_DIR/f'jerbarnes_dataset_selective_lowercased_lemmatized.csv'\n",
    "df = pd.read_csv(dataset_path, header=None, names=['label', 'text', 'processed_text'])\n",
    "\n",
    "# Split data into features and target\n",
    "X = df['processed_text']\n",
    "y = df['label']\n",
    "\n",
    "optimized_model = ImbPipeline([\n",
    "    ('vectorizer', CountVectorizer(min_df=2, lowercase=False, strip_accents=None, stop_words=None, ngram_range=(1, 2))),\n",
    "    ('classifier', ComplementNB(alpha=0.75))\n",
    "])\n",
    "\n",
    "# Split the data into training and testing sets\n",
    "X_train, X_test, y_train, y_test = train_test_split(X, y, test_size=0.2, random_state=42)\n",
    "\n",
    "# Train the model\n",
    "optimized_model.fit(X_train, y_train)\n",
    "\n",
    "# Make predictions and evaluate\n",
    "y_pred = optimized_model.predict(X_test)\n",
    "\n",
    "model_a_results = classification_report(y_test, y_pred, output_dict=True)\n",
    "print(classification_report(y_test, y_pred))\n"
   ]
  },
  {
   "cell_type": "markdown",
   "metadata": {},
   "source": [
    "The preprocessed `crowdsourced_dataset_selective_lowercased_lemmatized.csv` is loaded. Its features (`new_X`) and labels (`new_y`) are then appended to the `jerbarnes_dataset` training split (`X_train`, `y_train`) to create the combined training sets `X_train_combined` and `y_train_combined`.\n",
    "\n",
    "Model B is then trained on `X_train_combined` and `y_train_combined`. Its performance is then evaluated against the original `jerbarnes_dataset` test split (`X_test`, `y_test`), with the classification report printed and the results stored as `model_b_results`."
   ]
  },
  {
   "cell_type": "code",
   "execution_count": 19,
   "metadata": {},
   "outputs": [
    {
     "name": "stdout",
     "output_type": "stream",
     "text": [
      "              precision    recall  f1-score   support\n",
      "\n",
      "           0       0.81      0.91      0.85       119\n",
      "           1       0.70      0.50      0.58        52\n",
      "\n",
      "    accuracy                           0.78       171\n",
      "   macro avg       0.75      0.70      0.72       171\n",
      "weighted avg       0.77      0.78      0.77       171\n",
      "\n"
     ]
    }
   ],
   "source": [
    "# Load the crowd-sourced dataset\n",
    "new_dataset_path = DATA_DIR/f'crowdsourced_dataset_selective_lowercased_lemmatized.csv'\n",
    "new_df = pd.read_csv(new_dataset_path, header=None, names=['label', 'text', 'processed_text'])\n",
    "\n",
    "# Split data into features and target\n",
    "new_X = new_df['processed_text']\n",
    "new_y = new_df['label']\n",
    "\n",
    "# Add crowd-sourced data to training set\n",
    "X_train_combined = pd.concat([X_train, new_X], ignore_index=True)\n",
    "y_train_combined = pd.concat([y_train, new_y], ignore_index=True)\n",
    "\n",
    "# Train the model using the combined data\n",
    "optimized_model.fit(X_train_combined, y_train_combined)\n",
    "\n",
    "# Make predictions and evaluate\n",
    "y_pred = optimized_model.predict(X_test)\n",
    "\n",
    "model_b_results = classification_report(y_test, y_pred, output_dict=True)\n",
    "print(classification_report(y_test, y_pred))"
   ]
  },
  {
   "cell_type": "markdown",
   "metadata": {},
   "source": [
    "The combined training set (`X_train_combined`, `y_train_combined`) is now used to re-optimize a new model (Model C) from scratch. Since the addition of the crowdsourced data results in `X_train_combined` being significantly more balanced (approx. 52% Class 0, 48% Class 1), this stage re-evaluates if an imbalance strategy is still necessary, and if so, which is optimal for this new data distribution. The subsequent code defines four Ngrams (1-2) based pipelines: `MultinomialNB` with no explicit imbalance handling, `MultinomialNB` with adjusted 50/50 class priors, `MultinomialNB` with `RandomUnderSampler` enforcing a 1:1 class ratio and `ComplementNB`. These will be evaluated on `X_train_combined` via cross-validation to select the best approach before `alpha` tuning for Model C.\n"
   ]
  },
  {
   "cell_type": "code",
   "execution_count": 20,
   "metadata": {},
   "outputs": [],
   "source": [
    "# No Imbalance Handling\n",
    "mb_naive_bayes = Pipeline([\n",
    "    ('vectorizer', CountVectorizer(min_df=2, lowercase=False, strip_accents=None, stop_words=None, ngram_range=(1, 2))),\n",
    "    ('classifier', MultinomialNB())\n",
    "])\n",
    "\n",
    "# Class Prior Adjustment\n",
    "naive_bayes_balanced = Pipeline([\n",
    "    ('vectorizer', CountVectorizer(min_df=2, lowercase=False, strip_accents=None, stop_words=None, ngram_range=(1, 2))),\n",
    "    ('classifier', MultinomialNB(fit_prior=True, class_prior=[0.5, 0.5]))  # Equal class weights\n",
    "])\n",
    "\n",
    "undersampling_100 = ImbPipeline([\n",
    "    ('vectorizer', CountVectorizer(min_df=2, lowercase=False, strip_accents=None, stop_words=None, ngram_range=(1, 2))),\n",
    "    ('undersampler', RandomUnderSampler(sampling_strategy=1.0, random_state=42)),  # Fully balanced\n",
    "    ('classifier', MultinomialNB())\n",
    "])\n",
    "\n",
    "complement_nb = Pipeline([\n",
    "    ('vectorizer', CountVectorizer(min_df=2, lowercase=False, strip_accents=None, stop_words=None, ngram_range=(1, 2))),\n",
    "    ('classifier', ComplementNB())\n",
    "])\n",
    "\n",
    "# List of Pipelines and Names\n",
    "pipelines = [mb_naive_bayes, naive_bayes_balanced, undersampling_100, complement_nb]\n",
    "pipeline_names = ['Multinomial Naïve Bayes', 'Class Prior Adjustment', 'Undersampling 100%', 'Complement Naïve Bayes']"
   ]
  },
  {
   "cell_type": "markdown",
   "metadata": {},
   "source": [
    "Each of the imbalance handling pipelines is now trained and evaluated using 5-fold stratified cross-validation on the `X_train_combined` and `y_train_combined` data. The F1-macro scores (mean and standard deviation) for each pipeline are collected to determine the most effective approach for Model C."
   ]
  },
  {
   "cell_type": "code",
   "execution_count": 21,
   "metadata": {},
   "outputs": [
    {
     "name": "stdout",
     "output_type": "stream",
     "text": [
      "Pipeline: Multinomial Naïve Bayes\n",
      "Pipeline: Class Prior Adjustment\n",
      "Pipeline: Undersampling 100%\n",
      "Pipeline: Complement Naïve Bayes\n"
     ]
    }
   ],
   "source": [
    "f1_scores = {}\n",
    "\n",
    "# Single loop through pipelines only\n",
    "for name, pipeline in zip(pipeline_names, pipelines):\n",
    "    print(f\"Pipeline: {name}\")\n",
    "    results = train_model(pipeline, X_train_combined, y_train_combined)\n",
    "    \n",
    "    # Store F1-score mean and std\n",
    "    f1_scores[name] = results['f1']"
   ]
  },
  {
   "cell_type": "markdown",
   "metadata": {},
   "source": [
    "The `plot_f1_scores` function is used to to visually display the mean F1-macro scores and error bars from the evaluation of the three imbalance handling strategies on `X_train_combined`."
   ]
  },
  {
   "cell_type": "code",
   "execution_count": 22,
   "metadata": {},
   "outputs": [
    {
     "data": {
      "image/png": "[encoded data removed]",
      "text/plain": [
       "<Figure size 1000x600 with 1 Axes>"
      ]
     },
     "metadata": {},
     "output_type": "display_data"
    }
   ],
   "source": [
    "def plot_f1_scores(f1_scores):\n",
    "    # Set basic style parameters\n",
    "    plt.rcParams['figure.facecolor'] = 'white'\n",
    "    plt.rcParams['axes.grid'] = True\n",
    "\n",
    "    # Get dimensions\n",
    "    pipelines = list(f1_scores.keys())\n",
    "\n",
    "    # Set up the plot\n",
    "    fig, ax = plt.subplots(figsize=(10, 6))\n",
    "\n",
    "    # Calculate bar positions\n",
    "    x = np.arange(len(pipelines))\n",
    "    width = 0.5  # Can be wider now since we don't need to group bars\n",
    "\n",
    "    # Define colors for better visibility\n",
    "    colors = ['#1f77b4', '#ff7f0e', '#2ca02c', '#d62728']\n",
    "\n",
    "    # Plot bars for each pipeline\n",
    "    means = [f1_scores[pipeline][0] for pipeline in pipelines]\n",
    "    stds = [f1_scores[pipeline][1] for pipeline in pipelines]\n",
    "    \n",
    "    bars = ax.bar(x, means, width, \n",
    "                  yerr=stds, \n",
    "                  capsize=5, \n",
    "                  color=colors[:len(pipelines)], \n",
    "                  alpha=0.7)\n",
    "\n",
    "    # Customize the plot\n",
    "    ax.set_ylabel('F1 Score')\n",
    "    ax.set_title('F1 Scores by Resampling Strategies')\n",
    "    ax.set_xticks(x)\n",
    "    ax.set_xticklabels(pipelines, rotation=45, ha='right')\n",
    "\n",
    "    # Add grid for better readability\n",
    "    ax.grid(True, axis='y', linestyle='--', alpha=0.3)\n",
    "\n",
    "    # Set y-axis limits to focus on the relevant range\n",
    "    ax.set_ylim(0.4, 0.85)\n",
    "\n",
    "    # Add value labels on top of bars\n",
    "    for bar in bars:\n",
    "        height = bar.get_height()\n",
    "        ax.text(bar.get_x() + bar.get_width()/2., height,\n",
    "                f'{height:.3f}',\n",
    "                ha='center', va='bottom')\n",
    "\n",
    "    # Adjust layout to prevent label cutoff\n",
    "    plt.tight_layout()\n",
    "    \n",
    "    return fig\n",
    "\n",
    "# Create the plot\n",
    "fig = plot_f1_scores(f1_scores)\n",
    "\n",
    "# Show the plot\n",
    "plt.show()"
   ]
  },
  {
   "cell_type": "markdown",
   "metadata": {},
   "source": [
    "The `analyze_f1_scores` function is used to assesses the performance of the imbalance handling strategies on `X_train_combined`."
   ]
  },
  {
   "cell_type": "code",
   "execution_count": 23,
   "metadata": {},
   "outputs": [
    {
     "name": "stdout",
     "output_type": "stream",
     "text": [
      "\n",
      "Pipelines ranked by mean F1 score:\n",
      "Pipeline: Multinomial Naïve Bayes\n",
      "F1: 0.797 (±0.031)\n",
      "Pipeline: Class Prior Adjustment\n",
      "F1: 0.796 (±0.033)\n",
      "Pipeline: Complement Naïve Bayes\n",
      "F1: 0.796 (±0.033)\n",
      "\n",
      "Pipelines ranked by stability (lowest std):\n",
      "Pipeline: Multinomial Naïve Bayes\n",
      "F1: 0.797 (±0.031)\n",
      "Pipeline: Class Prior Adjustment\n",
      "F1: 0.796 (±0.033)\n",
      "Pipeline: Complement Naïve Bayes\n",
      "F1: 0.796 (±0.033)\n",
      "\n",
      "Pipelines ranked by combined performance (mean - std):\n",
      "Pipeline: Multinomial Naïve Bayes\n",
      "F1: 0.797 (±0.031)\n",
      "Pipeline: Class Prior Adjustment\n",
      "F1: 0.796 (±0.033)\n",
      "Pipeline: Complement Naïve Bayes\n",
      "F1: 0.796 (±0.033)\n"
     ]
    }
   ],
   "source": [
    "analyze_f1_scores(f1_scores)"
   ]
  },
  {
   "cell_type": "markdown",
   "metadata": {},
   "source": [
    "Multinomial Naive Bayes with no imbalance handling marginally leads the others across mean F1, stability, and combined performance. It is therefore selected as the pipeline structure for the final `alpha` hyperparameter tuning for Model C."
   ]
  },
  {
   "cell_type": "markdown",
   "metadata": {},
   "source": [
    "The final optimization step involves retuning the `alpha` (smoothing parameter) of the `MultinomialNB` classifier.  A `param_grid` with `alpha` values `[0.01, 0.1, 0.25, 0.5, 0.75, 1.0, 2.0, 5.0]` is defined. `GridSearchCV` performs a 5-fold stratified cross-validation on `X_train_combined` and `y_train_combined`, optimizing for `f1_macro`, to identify the best `alpha` for Model C."
   ]
  },
  {
   "cell_type": "code",
   "execution_count": 24,
   "metadata": {},
   "outputs": [
    {
     "name": "stdout",
     "output_type": "stream",
     "text": [
      "Best parameters: {'classifier__alpha': 0.5}\n",
      "Best F1-macro: 0.798988834574091\n"
     ]
    }
   ],
   "source": [
    "# Define parameter grid\n",
    "param_grid = {\n",
    "    'classifier__alpha': [0.01, 0.1, 0.25, 0.5, 0.75, 1.0, 2.0, 5.0]\n",
    "}\n",
    "\n",
    "# Create grid search with your best pipeline\n",
    "grid_search = GridSearchCV(\n",
    "    mb_naive_bayes,\n",
    "    param_grid,\n",
    "    cv=StratifiedKFold(n_splits=5, shuffle=True, random_state=42),\n",
    "    scoring='f1_macro',\n",
    "    n_jobs=-1\n",
    ")\n",
    "\n",
    "# Fit grid search\n",
    "grid_search.fit(X_train_combined, y_train_combined)\n",
    "\n",
    "# Get best parameters\n",
    "print(f\"Best parameters: {grid_search.best_params_}\")\n",
    "print(f\"Best F1-macro: {grid_search.best_score_}\")"
   ]
  },
  {
   "cell_type": "markdown",
   "metadata": {},
   "source": [
    "This final Model C is trained on the complete `X_train_combined` and `y_train_combined` datasets. Its performance is then evaluated on the original `jerbarnes_dataset` test split (`X_test`, `y_test`) for a fair comparison against previous models. The classification report is printed, and the metrics are stored as `model_c_results`."
   ]
  },
  {
   "cell_type": "code",
   "execution_count": 25,
   "metadata": {},
   "outputs": [
    {
     "name": "stdout",
     "output_type": "stream",
     "text": [
      "              precision    recall  f1-score   support\n",
      "\n",
      "           0       0.81      0.92      0.86       119\n",
      "           1       0.72      0.50      0.59        52\n",
      "\n",
      "    accuracy                           0.79       171\n",
      "   macro avg       0.76      0.71      0.72       171\n",
      "weighted avg       0.78      0.79      0.78       171\n",
      "\n"
     ]
    }
   ],
   "source": [
    "final_model = ImbPipeline([\n",
    "    ('vectorizer', CountVectorizer(min_df=2, lowercase=False, strip_accents=None, stop_words=None, ngram_range=(1, 2))),\n",
    "    ('classifier', MultinomialNB(alpha=0.5)),\n",
    "])\n",
    "\n",
    "# Train the model\n",
    "final_model.fit(X_train_combined, y_train_combined)\n",
    "\n",
    "# Make predictions and evaluate\n",
    "y_pred = final_model.predict(X_test)\n",
    "\n",
    "model_c_results = classification_report(y_test, y_pred, output_dict=True)\n",
    "print(classification_report(y_test, y_pred))"
   ]
  },
  {
   "cell_type": "markdown",
   "metadata": {},
   "source": [
    "The `generate_multi_model_comparison_table` function is defined to consolidate metrics from multiple `classification_report` dictionaries into a single, formatted pandas DataFrame."
   ]
  },
  {
   "cell_type": "code",
   "execution_count": 32,
   "metadata": {},
   "outputs": [
    {
     "name": "stdout",
     "output_type": "stream",
     "text": [
      "\n",
      "Multi-Model Comparison of Classification Reports:\n"
     ]
    },
    {
     "data": {
      "text/html": [
       "<div>\n",
       "<style scoped>\n",
       "    .dataframe tbody tr th:only-of-type {\n",
       "        vertical-align: middle;\n",
       "    }\n",
       "\n",
       "    .dataframe tbody tr th {\n",
       "        vertical-align: top;\n",
       "    }\n",
       "\n",
       "    .dataframe thead th {\n",
       "        text-align: right;\n",
       "    }\n",
       "</style>\n",
       "<table border=\"1\" class=\"dataframe\">\n",
       "  <thead>\n",
       "    <tr style=\"text-align: right;\">\n",
       "      <th></th>\n",
       "      <th>Class/Avg</th>\n",
       "      <th>Metric</th>\n",
       "      <th>Jerbarnes (ComplementalNB, alpha=0.75)</th>\n",
       "      <th>Combined Data (ComplementalNB, alpha=0.75)</th>\n",
       "      <th>Combined Data (Optimized: MultinomialNB, alpha=0.5))</th>\n",
       "    </tr>\n",
       "  </thead>\n",
       "  <tbody>\n",
       "    <tr>\n",
       "      <th>0</th>\n",
       "      <td>0</td>\n",
       "      <td>precision</td>\n",
       "      <td>0.79</td>\n",
       "      <td>0.81</td>\n",
       "      <td>0.81</td>\n",
       "    </tr>\n",
       "    <tr>\n",
       "      <th>1</th>\n",
       "      <td>0</td>\n",
       "      <td>recall</td>\n",
       "      <td>0.82</td>\n",
       "      <td>0.91</td>\n",
       "      <td>0.92</td>\n",
       "    </tr>\n",
       "    <tr>\n",
       "      <th>2</th>\n",
       "      <td>0</td>\n",
       "      <td>f1-score</td>\n",
       "      <td>0.81</td>\n",
       "      <td>0.85</td>\n",
       "      <td>0.86</td>\n",
       "    </tr>\n",
       "    <tr>\n",
       "      <th>3</th>\n",
       "      <td>1</td>\n",
       "      <td>precision</td>\n",
       "      <td>0.55</td>\n",
       "      <td>0.70</td>\n",
       "      <td>0.72</td>\n",
       "    </tr>\n",
       "    <tr>\n",
       "      <th>4</th>\n",
       "      <td>1</td>\n",
       "      <td>recall</td>\n",
       "      <td>0.50</td>\n",
       "      <td>0.50</td>\n",
       "      <td>0.50</td>\n",
       "    </tr>\n",
       "    <tr>\n",
       "      <th>5</th>\n",
       "      <td>1</td>\n",
       "      <td>f1-score</td>\n",
       "      <td>0.53</td>\n",
       "      <td>0.58</td>\n",
       "      <td>0.59</td>\n",
       "    </tr>\n",
       "    <tr>\n",
       "      <th>6</th>\n",
       "      <td>Overall</td>\n",
       "      <td>Accuracy</td>\n",
       "      <td>0.73</td>\n",
       "      <td>0.78</td>\n",
       "      <td>0.79</td>\n",
       "    </tr>\n",
       "    <tr>\n",
       "      <th>7</th>\n",
       "      <td>macro avg</td>\n",
       "      <td>precision</td>\n",
       "      <td>0.67</td>\n",
       "      <td>0.75</td>\n",
       "      <td>0.76</td>\n",
       "    </tr>\n",
       "    <tr>\n",
       "      <th>8</th>\n",
       "      <td>macro avg</td>\n",
       "      <td>recall</td>\n",
       "      <td>0.66</td>\n",
       "      <td>0.70</td>\n",
       "      <td>0.71</td>\n",
       "    </tr>\n",
       "    <tr>\n",
       "      <th>9</th>\n",
       "      <td>macro avg</td>\n",
       "      <td>f1-score</td>\n",
       "      <td>0.67</td>\n",
       "      <td>0.72</td>\n",
       "      <td>0.72</td>\n",
       "    </tr>\n",
       "    <tr>\n",
       "      <th>10</th>\n",
       "      <td>weighted avg</td>\n",
       "      <td>precision</td>\n",
       "      <td>0.72</td>\n",
       "      <td>0.77</td>\n",
       "      <td>0.78</td>\n",
       "    </tr>\n",
       "    <tr>\n",
       "      <th>11</th>\n",
       "      <td>weighted avg</td>\n",
       "      <td>recall</td>\n",
       "      <td>0.73</td>\n",
       "      <td>0.78</td>\n",
       "      <td>0.79</td>\n",
       "    </tr>\n",
       "    <tr>\n",
       "      <th>12</th>\n",
       "      <td>weighted avg</td>\n",
       "      <td>f1-score</td>\n",
       "      <td>0.72</td>\n",
       "      <td>0.77</td>\n",
       "      <td>0.78</td>\n",
       "    </tr>\n",
       "  </tbody>\n",
       "</table>\n",
       "</div>"
      ],
      "text/plain": [
       "       Class/Avg     Metric  Jerbarnes (ComplementalNB, alpha=0.75)  \\\n",
       "0              0  precision                                    0.79   \n",
       "1              0     recall                                    0.82   \n",
       "2              0   f1-score                                    0.81   \n",
       "3              1  precision                                    0.55   \n",
       "4              1     recall                                    0.50   \n",
       "5              1   f1-score                                    0.53   \n",
       "6        Overall   Accuracy                                    0.73   \n",
       "7      macro avg  precision                                    0.67   \n",
       "8      macro avg     recall                                    0.66   \n",
       "9      macro avg   f1-score                                    0.67   \n",
       "10  weighted avg  precision                                    0.72   \n",
       "11  weighted avg     recall                                    0.73   \n",
       "12  weighted avg   f1-score                                    0.72   \n",
       "\n",
       "    Combined Data (ComplementalNB, alpha=0.75)  \\\n",
       "0                                         0.81   \n",
       "1                                         0.91   \n",
       "2                                         0.85   \n",
       "3                                         0.70   \n",
       "4                                         0.50   \n",
       "5                                         0.58   \n",
       "6                                         0.78   \n",
       "7                                         0.75   \n",
       "8                                         0.70   \n",
       "9                                         0.72   \n",
       "10                                        0.77   \n",
       "11                                        0.78   \n",
       "12                                        0.77   \n",
       "\n",
       "    Combined Data (Optimized: MultinomialNB, alpha=0.5))  \n",
       "0                                                0.81     \n",
       "1                                                0.92     \n",
       "2                                                0.86     \n",
       "3                                                0.72     \n",
       "4                                                0.50     \n",
       "5                                                0.59     \n",
       "6                                                0.79     \n",
       "7                                                0.76     \n",
       "8                                                0.71     \n",
       "9                                                0.72     \n",
       "10                                               0.78     \n",
       "11                                               0.79     \n",
       "12                                               0.78     "
      ]
     },
     "metadata": {},
     "output_type": "display_data"
    }
   ],
   "source": [
    "def generate_multi_model_comparison_table(report_dicts, report_names):\n",
    "    # Generates a comparison table from multiple classification report dictionaries.\n",
    "\n",
    "    if len(report_dicts) != len(report_names):\n",
    "        raise ValueError(\"The number of report_dicts must match the number of report_names.\")\n",
    "\n",
    "    table_data = []\n",
    "    \n",
    "    # Define the order of rows and metrics\n",
    "    row_order = ['0', '1', 'accuracy', 'macro avg', 'weighted avg']\n",
    "    metric_keys_for_classes_and_avgs = ['precision', 'recall', 'f1-score'] \n",
    "\n",
    "    # Check which labels are present in at least one report to avoid empty rows\n",
    "    # More robustly, get all unique labels present across all reports for rows\n",
    "    all_labels_present = set()\n",
    "    for report_dict in report_dicts:\n",
    "        all_labels_present.update(report_dict.keys())\n",
    "    \n",
    "    # Filter row_order to only include labels that are actually present\n",
    "    # and maintain the desired order\n",
    "    ordered_labels_to_display = [label for label in row_order if label in all_labels_present]\n",
    "\n",
    "\n",
    "    for label in ordered_labels_to_display:\n",
    "        if label == 'accuracy':\n",
    "            row_entry = {'Class/Avg': 'Overall', 'Metric': 'Accuracy'}\n",
    "            for i, report_dict in enumerate(report_dicts):\n",
    "                row_entry[report_names[i]] = report_dict.get(label, 'N/A')\n",
    "            table_data.append(row_entry)\n",
    "        else: # For classes '0', '1', 'macro avg', 'weighted avg'\n",
    "            for metric in metric_keys_for_classes_and_avgs:\n",
    "                row_entry = {'Class/Avg': label, 'Metric': metric}\n",
    "                for i, report_dict in enumerate(report_dicts):\n",
    "                    # report_dict[label] is itself a dictionary like {'precision': ..., 'recall': ...}\n",
    "                    row_entry[report_names[i]] = report_dict.get(label, {}).get(metric, 'N/A')\n",
    "                table_data.append(row_entry)\n",
    "\n",
    "    df_comparison = pd.DataFrame(table_data)\n",
    "    \n",
    "    # Define column order\n",
    "    cols = ['Class/Avg', 'Metric'] + report_names\n",
    "    df_comparison = df_comparison[cols]\n",
    "    \n",
    "    return df_comparison\n",
    "\n",
    "\n",
    "all_report_dicts = [model_a_results, model_b_results, model_c_results]\n",
    "all_report_names = [\n",
    "    \"Jerbarnes (ComplementalNB, alpha=0.75)\", \n",
    "    \"Combined Data (ComplementalNB, alpha=0.75)\", \n",
    "    \"Combined Data (Optimized: MultinomialNB, alpha=0.5))\"\n",
    "]\n",
    "\n",
    "# Generate and print the comparison table.**\n",
    "multi_comparison_df = generate_multi_model_comparison_table(all_report_dicts, all_report_names)\n",
    "\n",
    "# Set pandas display options for better viewing\n",
    "pd.set_option('display.max_rows', None)\n",
    "pd.set_option('display.max_columns', None)\n",
    "pd.set_option('display.width', None) # Adjust width as needed or remove for auto\n",
    "pd.set_option('display.float_format', '{:.2f}'.format) # Format floats to 2 decimal places\n",
    "\n",
    "print(\"\\nMulti-Model Comparison of Classification Reports:\")\n",
    "display(multi_comparison_df)\n"
   ]
  }
 ],
 "metadata": {
  "kernelspec": {
   "display_name": ".venv",
   "language": "python",
   "name": "python3"
  },
  "language_info": {
   "codemirror_mode": {
    "name": "ipython",
    "version": 3
   },
   "file_extension": ".py",
   "mimetype": "text/x-python",
   "name": "python",
   "nbconvert_exporter": "python",
   "pygments_lexer": "ipython3",
   "version": "3.11.9"
  }
 },
 "nbformat": 4,
 "nbformat_minor": 2
}
