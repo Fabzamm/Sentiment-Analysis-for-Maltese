{
 "cells": [
  {
   "cell_type": "markdown",
   "id": "0aeffdad",
   "metadata": {},
   "source": [
    "# 04: Model Usage Demonstration (Adapted for SVM)\n",
    "\n",
    "This notebook, adapted from Matthew Vella's initial version, demonstrates how to load and use the serialized Maltese sentiment analysis pipeline (which now utilizes an SVM model). It shows how to perform inference on raw text inputs. For successful operation, the `preprocessor.py` module, containing necessary custom class definitions, must be available in the Python import path. The notebook illustrates making predictions and retrieving sentiment scores."
   ]
  },
  {
   "cell_type": "markdown",
   "id": "9d7b94e4",
   "metadata": {},
   "source": [
    "Essential Python libraries (`os`, `sys`, `joblib`, `traceback`) are imported, along with the custom `preprocessor` module."
   ]
  },
  {
   "cell_type": "code",
   "execution_count": 1,
   "id": "82ef6c8a",
   "metadata": {},
   "outputs": [],
   "source": [
    "import os\n",
    "import sys\n",
    "import joblib\n",
    "import traceback\n",
    "\n",
    "import preprocessor # Needed to deserialize and use the model"
   ]
  },
  {
   "cell_type": "markdown",
   "id": "afbb980a",
   "metadata": {},
   "source": [
    "This section loads the serialized sentiment analysis pipeline (now containing the SVM model) from its `.joblib` file."
   ]
  },
  {
   "cell_type": "code",
   "execution_count": 2,
   "id": "8ddeb847",
   "metadata": {},
   "outputs": [
    {
     "name": "stdout",
     "output_type": "stream",
     "text": [
      "Loading model from: svm_maltese_sentiment_analyzer.joblib\n",
      "Model loaded successfully.\n"
     ]
    }
   ],
   "source": [
    "# Loading the pipeline\n",
    "MODEL_FILENAME = \"svm_maltese_sentiment_analyzer.joblib\" \n",
    "loaded_model_pipeline = None\n",
    "\n",
    "if os.path.exists(MODEL_FILENAME):\n",
    "    print(f\"Loading model from: {MODEL_FILENAME}\")\n",
    "    try:\n",
    "        loaded_model_pipeline = joblib.load(MODEL_FILENAME)\n",
    "        print(\"Model loaded successfully.\")\n",
    "    except Exception as e:\n",
    "        print(f\"CRITICAL ERROR loading the model: {e}\")\n",
    "        traceback.print_exc() \n",
    "        print(f\"Ensure dependency `preprocessor.py` is loaded\")\n",
    "        sys.exit(1) # Exit if model cannot be loaded\n",
    "else:\n",
    "    print(f\"Error: Model file '{MODEL_FILENAME}' not found.\")\n",
    "    print(\"Please ensure the model was saved correctly using the 'Train and Save' script.\")\n",
    "    sys.exit(1) # Exit if model file not found"
   ]
  },
  {
   "cell_type": "markdown",
   "id": "751106e6",
   "metadata": {},
   "source": [
    "The `get_sentiment_prediction` function uses the loaded pipeline to process raw text, apply necessary preprocessing, and predict the sentiment using the integrated SVM model. It also retrieves prediction probabilities. The function then prints the input text, its preprocessed form, and the final sentiment prediction. Its usage is demonstrated with various example sentences."
   ]
  },
  {
   "cell_type": "code",
   "execution_count": 3,
   "id": "97a1fedd",
   "metadata": {},
   "outputs": [
    {
     "name": "stdout",
     "output_type": "stream",
     "text": [
      "\n",
      "Predicting for a list of sentences:\n",
      "Input: 'Dan il-film kien assolutament eccelenti!'\n",
      "Preprocessed Text: 'dan il film kien assolutament eccelenti !'\n",
      "Sentiment: Negative (0)\n",
      "Probability (Negative): 0.7024\n",
      "Probability (Positive): 0.2976\n",
      "\n",
      "Input: 'Dan is-servizz kien verament tajjeb u għoġobni ħafna!'\n",
      "Preprocessed Text: 'dan is servizz kien verament tajjeb u għoġob ħaf !'\n",
      "Sentiment: Positive (1)\n",
      "Probability (Negative): 0.0241\n",
      "Probability (Positive): 0.9759\n",
      "\n",
      "Input: 'Xejn speċjali, ma tantx impressjonani.'\n",
      "Preprocessed Text: 'xejn speċjali , ma tantx impressjonani .'\n",
      "Sentiment: Negative (0)\n",
      "Probability (Negative): 0.8936\n",
      "Probability (Positive): 0.1064\n",
      "\n",
      "Input: 'Xejn ma ghogobni'\n",
      "Preprocessed Text: 'xejn ma ghogobni'\n",
      "Sentiment: Negative (0)\n",
      "Probability (Negative): 0.9876\n",
      "Probability (Positive): 0.0124\n",
      "\n",
      "Input: 'This is an English sentence.Tal misthija'\n",
      "Preprocessed Text: 'this is an english sentence . tal mistħi'\n",
      "Sentiment: Negative (0)\n",
      "Probability (Negative): 0.9563\n",
      "Probability (Positive): 0.0437\n",
      "\n",
      "Input: 'Qazziztni'\n",
      "Preprocessed Text: 'qazziztni'\n",
      "Sentiment: Negative (0)\n",
      "Probability (Negative): 0.5946\n",
      "Probability (Positive): 0.4054\n",
      "\n",
      "Input: 'Ma nifilhekx'\n",
      "Preprocessed Text: 'ma nifilhekx'\n",
      "Sentiment: Negative (0)\n",
      "Probability (Negative): 0.9886\n",
      "Probability (Positive): 0.0114\n",
      "\n",
      "Input: 'Tal-Ostja Int u t team kollhu tieghek!'\n",
      "Preprocessed Text: 'tal ostja int u t team kollhu ta' !'\n",
      "Sentiment: Positive (1)\n",
      "Probability (Negative): 0.3232\n",
      "Probability (Positive): 0.6768\n",
      "\n",
      "Input: 'Inkredibbli kif irnexxielhom jkisruha diska.'\n",
      "Preprocessed Text: 'inkredibbli kief irnexxielhom jkisruha diska .'\n",
      "Sentiment: Negative (0)\n",
      "Probability (Negative): 0.6111\n",
      "Probability (Positive): 0.3889\n",
      "\n",
      "Input: 'Prosit ministru'\n",
      "Preprocessed Text: 'prosit ministru'\n",
      "Sentiment: Positive (1)\n",
      "Probability (Negative): 0.0136\n",
      "Probability (Positive): 0.9864\n",
      "\n",
      "Input: 'Inkredibbli'\n",
      "Preprocessed Text: 'inkredibbli'\n",
      "Sentiment: Positive (1)\n",
      "Probability (Negative): 0.4393\n",
      "Probability (Positive): 0.5607\n",
      "\n",
      "Input: 'Kilt ikel tajjeb'\n",
      "Preprocessed Text: 'kiel ikel tajjeb'\n",
      "Sentiment: Positive (1)\n",
      "Probability (Negative): 0.1613\n",
      "Probability (Positive): 0.8387\n",
      "\n",
      "Input: 'nisrani'\n",
      "Preprocessed Text: 'nisrani'\n",
      "Sentiment: Negative (0)\n",
      "Probability (Negative): 0.5244\n",
      "Probability (Positive): 0.4756\n",
      "\n",
      "Input: 'musulman'\n",
      "Preprocessed Text: 'musulman'\n",
      "Sentiment: Negative (0)\n",
      "Probability (Negative): 0.7728\n",
      "Probability (Positive): 0.2272\n",
      "\n"
     ]
    }
   ],
   "source": [
    "# Example Usage\n",
    "def get_sentiment_prediction(raw_text_input, pipeline):\n",
    "    try:\n",
    "        # Step 1: Access individual steps\n",
    "        custom_preprocessor = pipeline.named_steps['custom_maltese_preprocessor']\n",
    "        model = pipeline.named_steps['sentiment_model']\n",
    "        \n",
    "        # Step 2: Get intermediate preprocessed output\n",
    "        intermediate_output = custom_preprocessor.transform([raw_text_input])\n",
    "        preprocessed_text = intermediate_output.iloc[0]\n",
    "        \n",
    "        print(f\"Input: '{raw_text_input}'\")\n",
    "        print(f\"Preprocessed Text: '{preprocessed_text}'\")\n",
    "\n",
    "        # Step 3: Run sentiment model on intermediate output\n",
    "        prediction_label = model.predict(intermediate_output)[0]\n",
    "        # SVC has probability=True set in Notebook 02 for predict_proba to work\n",
    "        probabilities = model.predict_proba(intermediate_output)[0]\n",
    "\n",
    "        # Step 4: Print output\n",
    "        print(f\"Sentiment: {'Positive' if int(prediction_label) == 1 else 'Negative'} ({prediction_label})\")\n",
    "        print(f\"Probability (Negative): {float(probabilities[0]):.4f}\")\n",
    "        print(f\"Probability (Positive): {float(probabilities[1]):.4f}\")\n",
    "\n",
    "    except Exception as e:\n",
    "        print(f\"Error during prediction for '{raw_text_input}': {e}\")\n",
    "\n",
    "\n",
    "# Example Usage\n",
    "sentences_to_predict_list = [\n",
    "    \"Dan il-film kien assolutament eccelenti!\",\n",
    "    \"Dan is-servizz kien verament tajjeb u għoġobni ħafna!\",\n",
    "    \"Xejn speċjali, ma tantx impressjonani.\",\n",
    "    \"Xejn ma ghogobni\",\n",
    "    \"This is an English sentence.\"\n",
    "    \"Tal misthija\",\n",
    "    \"Qazziztni\",\n",
    "    \"Ma nifilhekx\",\n",
    "    \"Tal-Ostja Int u t team kollhu tieghek!\",\n",
    "    \"Inkredibbli kif irnexxielhom jkisruha diska.\",\n",
    "    \"Prosit ministru\",\n",
    "    \"Inkredibbli\", # Incorrectly labelled as Negative\n",
    "    \"Kilt ikel tajjeb\", # Incorrectly labelled as Negative\n",
    "\n",
    "    \"nisrani\", # Positive?\n",
    "    \"musulman\", # Negative?\n",
    "    ]\n",
    "\n",
    "print(\"\\nPredicting for a list of sentences:\")\n",
    "for sentence in sentences_to_predict_list:\n",
    "    result = get_sentiment_prediction(sentence, loaded_model_pipeline)\n",
    "    print()"
   ]
  }
 ],
 "metadata": {
  "kernelspec": {
   "display_name": ".venv",
   "language": "python",
   "name": "python3"
  },
  "language_info": {
   "codemirror_mode": {
    "name": "ipython",
    "version": 3
   },
   "file_extension": ".py",
   "mimetype": "text/x-python",
   "name": "python",
   "nbconvert_exporter": "python",
   "pygments_lexer": "ipython3",
   "version": "3.13.2"
  }
 },
 "nbformat": 4,
 "nbformat_minor": 5
}
